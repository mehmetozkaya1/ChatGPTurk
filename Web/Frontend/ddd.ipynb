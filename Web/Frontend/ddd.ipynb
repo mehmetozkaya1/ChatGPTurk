{
 "cells": [
  {
   "cell_type": "code",
   "execution_count": 1,
   "metadata": {},
   "outputs": [
    {
     "name": "stdout",
     "output_type": "stream",
     "text": [
      "Note: you may need to restart the kernel to use updated packages.\n"
     ]
    }
   ],
   "source": [
    "%pip install -q transformers"
   ]
  },
  {
   "cell_type": "code",
   "execution_count": 2,
   "metadata": {},
   "outputs": [
    {
     "name": "stderr",
     "output_type": "stream",
     "text": [
      "c:\\Users\\mehme\\anaconda3\\envs\\ML-DL\\Lib\\site-packages\\tqdm\\auto.py:21: TqdmWarning: IProgress not found. Please update jupyter and ipywidgets. See https://ipywidgets.readthedocs.io/en/stable/user_install.html\n",
      "  from .autonotebook import tqdm as notebook_tqdm\n"
     ]
    }
   ],
   "source": [
    "from transformers import pipeline"
   ]
  },
  {
   "cell_type": "code",
   "execution_count": 8,
   "metadata": {},
   "outputs": [
    {
     "name": "stderr",
     "output_type": "stream",
     "text": [
      "Hardware accelerator e.g. GPU is available in the environment, but no `device` argument is passed to the `Pipeline` object. Model will be on CPU.\n"
     ]
    }
   ],
   "source": [
    "cls = pipeline(\"zero-shot-classification\", model='facebook/bart-large-mnli')"
   ]
  },
  {
   "cell_type": "code",
   "execution_count": 9,
   "metadata": {},
   "outputs": [],
   "source": [
    "labels = [\"sport\", \"politics\",\"technology\",\"health\",\"education\"]"
   ]
  },
  {
   "cell_type": "code",
   "execution_count": 21,
   "metadata": {},
   "outputs": [
    {
     "name": "stderr",
     "output_type": "stream",
     "text": [
      "100%|██████████| 70/70 [00:53<00:00,  1.32it/s]\n"
     ]
    }
   ],
   "source": [
    "import requests\n",
    "from bs4 import BeautifulSoup\n",
    "from tqdm import tqdm\n",
    "\n",
    "# BBC News ana sayfasının URL'si\n",
    "url = \"https://www.bbc.com/news\"\n",
    "\n",
    "sport_news = []\n",
    "sport_news_urls = []\n",
    "politics_news = []\n",
    "politics_news_urls = []\n",
    "tech_news = []\n",
    "tech_news_urls = []\n",
    "health_news = []\n",
    "health_news_urls = []\n",
    "education_news = []\n",
    "education_news_urls = []\n",
    "\n",
    "# Web sayfasını indir\n",
    "response = requests.get(url)\n",
    "\n",
    "# Sayfanın HTML içeriğini parse et\n",
    "soup = BeautifulSoup(response.content, 'html.parser')\n",
    "\n",
    "# Haber başlıklarını ve URL'lerini içeren HTML elementlerini bul\n",
    "articles = soup.select('a.sc-2e6baa30-0')\n",
    "\n",
    "# Başlıkları ve URL'leri listeye ekle\n",
    "news = []\n",
    "for article in tqdm(articles):\n",
    "    title = article.get_text()\n",
    "    link = article['href']\n",
    "    # Tam URL'yi oluştur\n",
    "    full_link = f\"https://www.bbc.com{link}\" if link.startswith('/') else link\n",
    "\n",
    "    result = cls(title, labels)\n",
    "\n",
    "    if result['labels'][0] == \"sports\" and result['scores'][0] >= 0.7:\n",
    "        sport_news.append(title)\n",
    "        sport_news_urls.append(full_link)\n",
    "    elif result['labels'][0] == \"politics\" and result['scores'][0] >= 0.7:\n",
    "        politics_news.append(title)\n",
    "        politics_news_urls.append(full_link)\n",
    "    elif result['labels'][0] == \"technology\" and result['scores'][0] >= 0.7:\n",
    "        tech_news.append(title)\n",
    "        tech_news_urls.append(full_link)\n",
    "    elif result['labels'][0] == \"health\" and result['scores'][0] >= 0.7:\n",
    "        health_news.append(title)\n",
    "        health_news_urls.append(full_link)\n",
    "    elif result['labels'][0] == \"education\" and result['scores'][0] >= 0.7:\n",
    "        education_news.append(title)\n",
    "        education_news_urls.append(full_link)"
   ]
  },
  {
   "cell_type": "code",
   "execution_count": 22,
   "metadata": {},
   "outputs": [
    {
     "data": {
      "text/plain": [
       "[]"
      ]
     },
     "execution_count": 22,
     "metadata": {},
     "output_type": "execute_result"
    }
   ],
   "source": [
    "sport_news_urls"
   ]
  },
  {
   "cell_type": "code",
   "execution_count": 23,
   "metadata": {},
   "outputs": [
    {
     "data": {
      "text/plain": [
       "['https://www.bbc.com/news/articles/c047281jj8do',\n",
       " 'https://www.bbc.com/news/articles/c047281jj8do',\n",
       " 'https://www.bbc.com/news/articles/c4ng9ed3gj0o',\n",
       " 'https://www.bbc.com/news/articles/crg5pq8ql1vo',\n",
       " 'https://www.bbc.com/news/articles/c4ng8e3j72yo',\n",
       " 'https://www.bbc.com/news/articles/cn05p714907o',\n",
       " 'https://www.bbc.com/news/articles/cevwzvxqw1vo',\n",
       " 'https://www.bbc.com/news/articles/c4ng8e3j72yo',\n",
       " 'https://www.bbc.com/news/videos/cd1ep30gr94o',\n",
       " 'https://www.bbc.com/news/videos/c728lyw8qy7o',\n",
       " 'https://www.bbc.com/news/videos/cgxqp3p2ep8o',\n",
       " 'https://www.bbc.com/news/videos/cqqlpvrxyy9o',\n",
       " 'https://www.bbc.com/news/articles/c047281jj8do',\n",
       " 'https://www.bbc.com/news/articles/c4ng8e3j72yo']"
      ]
     },
     "execution_count": 23,
     "metadata": {},
     "output_type": "execute_result"
    }
   ],
   "source": [
    "politics_news_urls"
   ]
  },
  {
   "cell_type": "code",
   "execution_count": 24,
   "metadata": {},
   "outputs": [
    {
     "data": {
      "text/plain": [
       "['https://www.bbc.com/news/articles/cne4vl9gy2wo',\n",
       " 'https://www.bbc.com/news/articles/ck5gp185n6ro',\n",
       " 'https://www.bbc.com/news/live/ce98pq4e3d1t',\n",
       " 'https://www.bbc.com/news/articles/cw4yxdg7n3lo',\n",
       " 'https://www.bbc.com/news/articles/cw4yxdg7n3lo',\n",
       " 'https://www.bbc.com/news/articles/cne4vl9gy2wo',\n",
       " 'https://www.bbc.com/news/articles/ck5gp185n6ro']"
      ]
     },
     "execution_count": 24,
     "metadata": {},
     "output_type": "execute_result"
    }
   ],
   "source": [
    "tech_news_urls"
   ]
  }
 ],
 "metadata": {
  "kernelspec": {
   "display_name": "ChatBot",
   "language": "python",
   "name": "python3"
  },
  "language_info": {
   "codemirror_mode": {
    "name": "ipython",
    "version": 3
   },
   "file_extension": ".py",
   "mimetype": "text/x-python",
   "name": "python",
   "nbconvert_exporter": "python",
   "pygments_lexer": "ipython3",
   "version": "3.11.9"
  }
 },
 "nbformat": 4,
 "nbformat_minor": 2
}
